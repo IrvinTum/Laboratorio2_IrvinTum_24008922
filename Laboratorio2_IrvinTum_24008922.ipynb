{
 "cells": [
  {
   "cell_type": "markdown",
   "id": "1236c455-bebd-454c-b4e6-619c39d4b4e4",
   "metadata": {
    "jp-MarkdownHeadingCollapsed": true,
    "tags": []
   },
   "source": [
    "# Ejercicio No. 1"
   ]
  },
  {
   "cell_type": "code",
   "execution_count": 11,
   "id": "dd4dae49-fe07-4b9e-b84a-c8bc4634e22d",
   "metadata": {
    "tags": []
   },
   "outputs": [
    {
     "name": "stdin",
     "output_type": "stream",
     "text": [
      "Ingrese el numero de segundos: 5871\n"
     ]
    },
    {
     "name": "stdout",
     "output_type": "stream",
     "text": [
      "Horas: 1 , Minutos:37 , Segundos:51\n"
     ]
    }
   ],
   "source": [
    "numeroSeg = int(input(\"Ingrese el numero de segundos:\"))\n",
    "if (numeroSeg > 0):\n",
    "    numero_horas = numeroSeg // 3600\n",
    "    numero_minutos = (numeroSeg % 3600) // 60\n",
    "    numero_segundos = (numeroSeg % 3600) % 60\n",
    "    \n",
    "    print(\"Horas: \" + str(numero_horas)+\" , Minutos:\"+ str(numero_minutos) +\" , Segundos:\"+ str(numero_segundos))\n",
    "else:\n",
    "    print(\"No es un formato valido\")"
   ]
  },
  {
   "cell_type": "markdown",
   "id": "99a322f9-5504-4008-9fb5-036af5f1736b",
   "metadata": {
    "jp-MarkdownHeadingCollapsed": true,
    "tags": []
   },
   "source": [
    "# Ejercicio No.2"
   ]
  },
  {
   "cell_type": "code",
   "execution_count": 23,
   "id": "cea833e9-7a3d-4e31-8aad-6aa60aecb8fb",
   "metadata": {
    "tags": []
   },
   "outputs": [
    {
     "name": "stdin",
     "output_type": "stream",
     "text": [
      "Ingrese un numero entre 1 y 20 4\n",
      "Ingrese un simbolo $\n"
     ]
    },
    {
     "name": "stdout",
     "output_type": "stream",
     "text": [
      "$\n",
      "$$\n",
      "$$$\n",
      "$$$$\n",
      "\n",
      "$$$$\n",
      "$$$\n",
      "$$\n",
      "$\n",
      "\n",
      "   $\n",
      "  $$\n",
      " $$$\n",
      "$$$$\n",
      "\n",
      "$$$$\n",
      " $$$\n",
      "  $$\n",
      "   $\n",
      "\n"
     ]
    }
   ],
   "source": [
    "numero = int(input(\"Ingrese un numero entre 1 y 20\"))\n",
    "\n",
    "if (numero >= 1 and numero <= 20):\n",
    "    simbolo = input(\"Ingrese un simbolo\")\n",
    "   \n",
    "    for i in range(1, numero+1):\n",
    "        print(simbolo*i)\n",
    "    print()\n",
    "    \n",
    "    for i in range(numero , 0,-1):\n",
    "        print(simbolo*i)\n",
    "    print()\n",
    "    \n",
    "    for i in range(1, numero+1):\n",
    "        print(' '*(numero-i) + simbolo*i)\n",
    "    print()\n",
    "\n",
    "    for i in range(numero, 0, -1):\n",
    "        print(' '*(numero-i) + simbolo*i)\n",
    "    print()\n",
    "    \n",
    "else:\n",
    "    print(\"No es un numero valido\")"
   ]
  },
  {
   "cell_type": "markdown",
   "id": "f1bb25c9-9555-4d70-92ff-c645b51bb03b",
   "metadata": {
    "jp-MarkdownHeadingCollapsed": true,
    "tags": []
   },
   "source": [
    "# Ejercicio No. 3"
   ]
  },
  {
   "cell_type": "code",
   "execution_count": 56,
   "id": "eb21f6c9-a416-4551-b1d8-e367b6a2448c",
   "metadata": {
    "tags": []
   },
   "outputs": [
    {
     "name": "stdin",
     "output_type": "stream",
     "text": [
      "Ingrese el dia de nacimiento 27\n",
      "Ingrese mes de nacimiento 2\n",
      "Ingrese año de nacimiento 1993\n"
     ]
    },
    {
     "name": "stdout",
     "output_type": "stream",
     "text": [
      "2024-02-25\n",
      "1993-02-27\n",
      "La edad de la persona es: 30 años , 0 meses, 25días.\n"
     ]
    }
   ],
   "source": [
    "import datetime\n",
    "numeroDiaN = int(input(\"Ingrese el dia de nacimiento\"))\n",
    "\n",
    "if (numeroDiaN >= 1 and numeroDiaN <= 31):\n",
    "    numeroMesN = int(input(\"Ingrese mes de nacimiento\"))\n",
    "    if (numeroMesN >= 1 and numeroMesN <= 12):\n",
    "        numeroAnioN = int(input(\"Ingrese año de nacimiento\"))\n",
    "        if (numeroAnioN > 0):\n",
    "            #fecha actual\n",
    "            f_actual = datetime.date.today()\n",
    "            print(f_actual)\n",
    "            print(f_nacimiento)\n",
    "          \n",
    "            edad_anios = f_actual.year - numeroAnioN\n",
    "            edad_meses = f_actual.month - numeroMesN\n",
    "            edad_dias = f_actual.day - numeroDiaN\n",
    "\n",
    "            # Ajustar la edad si los meses o los días son negativos\n",
    "            if edad_meses < 0 or (edad_meses == 0 and edad_dias < 0):\n",
    "                edad_anios -= 1\n",
    "                if edad_meses < 0:\n",
    "                    edad_meses += 12\n",
    "                if edad_dias < 0:\n",
    "                    meses_30 = [4, 6, 9, 11]\n",
    "                    meses_31 = [1, 3, 5, 7, 8, 10, 12]\n",
    "                    if numeroMesN in meses_30:\n",
    "                        numeroDiaN = 30\n",
    "                    elif numeroMesN in meses_31:\n",
    "                        numeroDiaN = 31\n",
    "                    else:\n",
    "                    # Febrero\n",
    "                        if (numeroAnioN % 4 == 0 and numeroAnioN % 100 != 0) or numeroAnioN % 400 == 0:\n",
    "                            numeroDiaN = 29\n",
    "                        else:\n",
    "                            numeroMesN = 28\n",
    "                    edad_dias += numeroDiaN\n",
    "\n",
    "            print(\"La edad de la persona es: \"+ str(edad_anios) +\" años , \"+ str(edad_meses)+ \" meses, \" + str(edad_dias)+ \"días.\")\n",
    "        else:\n",
    "            print(\"No es un numero valido\")\n",
    "    else:\n",
    "        print(\"No es un numero valido\")\n",
    "    \n",
    "else:\n",
    "    print(\"No es un numero valido\")"
   ]
  },
  {
   "cell_type": "markdown",
   "id": "ade89838-dc45-45e0-9409-8b70a573fe71",
   "metadata": {
    "jp-MarkdownHeadingCollapsed": true,
    "tags": []
   },
   "source": [
    "# Ejercicio No.4"
   ]
  },
  {
   "cell_type": "code",
   "execution_count": 57,
   "id": "ed3e8d00-d417-4a54-959a-30f7507a088f",
   "metadata": {
    "tags": []
   },
   "outputs": [],
   "source": [
    "def  Cadena(datos):\n",
    "    return ''.join(map(str, datos))"
   ]
  },
  {
   "cell_type": "code",
   "execution_count": 58,
   "id": "922aac2d-d4c7-4359-8a84-8c71b1450cd5",
   "metadata": {
    "tags": []
   },
   "outputs": [
    {
     "name": "stdout",
     "output_type": "stream",
     "text": [
      "102040570\n"
     ]
    }
   ],
   "source": [
    "Datos = (10, 20, 40, 5, 70)\n",
    "salida = Cadena(Datos)\n",
    "print(salida)"
   ]
  },
  {
   "cell_type": "code",
   "execution_count": 63,
   "id": "bf821a9e-f2cc-481a-99e2-1f1418953550",
   "metadata": {
    "tags": []
   },
   "outputs": [
    {
     "name": "stdout",
     "output_type": "stream",
     "text": [
      "HolaMundo40A70\n"
     ]
    }
   ],
   "source": [
    "Datos = (\"Hola\", \"Mundo\", 40, \"A\", 70)\n",
    "salida = Cadena(Datos)\n",
    "print(salida)"
   ]
  },
  {
   "cell_type": "markdown",
   "id": "7a3b6f43-39ee-4ce2-9d93-3aa5c3c68b24",
   "metadata": {
    "jp-MarkdownHeadingCollapsed": true,
    "tags": []
   },
   "source": [
    "# Ejercicio No. 5"
   ]
  },
  {
   "cell_type": "code",
   "execution_count": 81,
   "id": "d784cb9a-b07e-4d25-9314-ca446e29e88d",
   "metadata": {
    "tags": []
   },
   "outputs": [],
   "source": [
    "def eliminar_vacios(datos): \n",
    "    nueva_lista = [\n",
    "        NDatos \n",
    "        for NDatos in datos \n",
    "            if len(NDatos) > 0] \n",
    "    return nueva_lista"
   ]
  },
  {
   "cell_type": "code",
   "execution_count": 82,
   "id": "a1d8fdeb-adcb-41b0-b550-67308e812c50",
   "metadata": {
    "tags": []
   },
   "outputs": [
    {
     "name": "stdout",
     "output_type": "stream",
     "text": [
      "[('X',), ('a', 'b'), ('a', 'b', 'c'), 'd']\n"
     ]
    }
   ],
   "source": [
    "lista = [(), (), ('X',), ('a', 'b'), ('a', 'b', 'c'), ('d')] \n",
    "resultado = eliminar_vacios(lista) \n",
    "print(resultado) "
   ]
  },
  {
   "cell_type": "markdown",
   "id": "3f8ebf4f-60bc-49a3-93b0-226c04882807",
   "metadata": {
    "jp-MarkdownHeadingCollapsed": true,
    "tags": []
   },
   "source": [
    "# Ejercicio No. 6"
   ]
  },
  {
   "cell_type": "code",
   "execution_count": 89,
   "id": "a1407b3a-958d-42a5-aa22-7f01aabf6e3f",
   "metadata": {
    "tags": []
   },
   "outputs": [],
   "source": [
    "def calcular_promedio(lista):\n",
    "    return tuple(sum(i)/len(i) for i in lista)"
   ]
  },
  {
   "cell_type": "code",
   "execution_count": 90,
   "id": "70289830-e5c8-4d71-b1af-7ab4e4a640f0",
   "metadata": {
    "tags": []
   },
   "outputs": [
    {
     "name": "stdout",
     "output_type": "stream",
     "text": [
      "(10.5, 44.0, 58.0)\n"
     ]
    }
   ],
   "source": [
    "datos = ((10, 10, 10, 12), (30, 45, 56, 45), (81, 80, 39, 32))\n",
    "resultado = calcular_promedio(datos)\n",
    "print(resultado)"
   ]
  },
  {
   "cell_type": "markdown",
   "id": "cff44bdf-b2bd-43e3-97e3-9cce565b1443",
   "metadata": {
    "jp-MarkdownHeadingCollapsed": true,
    "tags": []
   },
   "source": [
    "# Ejercicio No. 7"
   ]
  },
  {
   "cell_type": "code",
   "execution_count": 129,
   "id": "467c11d0-0095-4a61-8019-4bbe672a66d9",
   "metadata": {
    "tags": []
   },
   "outputs": [
    {
     "name": "stdout",
     "output_type": "stream",
     "text": [
      "1. Añadir nueva factura\n",
      "2. Pagar factura existente\n",
      "3. Salir\n"
     ]
    },
    {
     "name": "stdin",
     "output_type": "stream",
     "text": [
      "Seleccione una opción:  1\n",
      "Ingrese el número de la factura (4 dígitos):  2345\n",
      "Ingrese el costo de la factura:  56\n"
     ]
    },
    {
     "name": "stdout",
     "output_type": "stream",
     "text": [
      "Factura añadida correctamente:\n",
      "{'2345': 56.0}\n",
      "Cantidad cobrada hasta el momento: 56.0\n",
      "Cantidad pendiente de cobro: 56.0\n",
      "1. Añadir nueva factura\n",
      "2. Pagar factura existente\n",
      "3. Salir\n"
     ]
    },
    {
     "name": "stdin",
     "output_type": "stream",
     "text": [
      "Seleccione una opción:  2\n",
      "Ingrese el número de factura que desea pagar:  2345\n"
     ]
    },
    {
     "name": "stdout",
     "output_type": "stream",
     "text": [
      "La factura 2345 ha sido pagada.\n",
      "Cantidad cobrada hasta el momento: 0\n",
      "Cantidad pendiente de cobro: 0\n",
      "1. Añadir nueva factura\n",
      "2. Pagar factura existente\n",
      "3. Salir\n"
     ]
    },
    {
     "name": "stdin",
     "output_type": "stream",
     "text": [
      "Seleccione una opción:  3\n"
     ]
    }
   ],
   "source": [
    "facturas_pendientes = {}\n",
    "\n",
    "def mostrar_informacion():\n",
    "    cobrado = sum(facturas_pendientes.values())\n",
    "    pendiente = 0\n",
    "    if facturas_pendientes:\n",
    "        pendiente = sum(facturas_pendientes.values())\n",
    "    print(\"Cantidad cobrada hasta el momento: \" + str(cobrado))\n",
    "    print(\"Cantidad pendiente de cobro: \" + str(pendiente))\n",
    "\n",
    "def anadir_factura():\n",
    "    num_factura = input(\"Ingrese el número de la factura (4 dígitos): \")\n",
    "    costo_factura = float(input(\"Ingrese el costo de la factura: \"))\n",
    "    facturas_pendientes[num_factura] = costo_factura\n",
    "    print(\"Factura añadida correctamente:\")\n",
    "    print(facturas_pendientes)\n",
    "\n",
    "def pagar_factura():\n",
    "    num_factura = input(\"Ingrese el número de factura que desea pagar: \")\n",
    "    if num_factura in facturas_pendientes:\n",
    "        del facturas_pendientes[num_factura]\n",
    "        print(f\"La factura {num_factura} ha sido pagada.\")\n",
    "    else:\n",
    "        print(\"La factura ingresada no existe en el diccionario.\")\n",
    "\n",
    "while True:\n",
    "    print(\"1. Añadir nueva factura\")\n",
    "    print(\"2. Pagar factura existente\")\n",
    "    print(\"3. Salir\")\n",
    "    \n",
    "    opcion = input(\"Seleccione una opción: \")\n",
    "    \n",
    "    if opcion == \"1\":\n",
    "        anadir_factura()\n",
    "        mostrar_informacion()\n",
    "    elif opcion == \"2\":\n",
    "        pagar_factura()\n",
    "        mostrar_informacion()\n",
    "    elif opcion == \"3\":\n",
    "        break\n",
    "    else:\n",
    "        print(\"Opción inválida. Por favor, seleccione una opción válida.\")\n"
   ]
  },
  {
   "cell_type": "markdown",
   "id": "5c21bc47-b483-478f-b02b-68ff32b75c92",
   "metadata": {},
   "source": [
    "# Ejercicio No.8"
   ]
  },
  {
   "cell_type": "code",
   "execution_count": 95,
   "id": "f59e13a5-11d0-44c6-9e6d-69b0117dd31e",
   "metadata": {
    "tags": []
   },
   "outputs": [],
   "source": [
    "def crear_baraja(): \n",
    "    tipos = ['T', 'C', 'P', 'E'] \n",
    "    numeros = ['01', '02', '03', '04', '05', '06', '07', '08', '09', '10', '11', '12', '13']\n",
    "    baraja = set()\n",
    "\n",
    "    for tipo in tipos:\n",
    "        for numero in numeros:\n",
    "            carta = tipo + numero\n",
    "            baraja.add(carta)\n",
    "\n",
    "    return baraja"
   ]
  },
  {
   "cell_type": "code",
   "execution_count": 139,
   "id": "1bfaa089-d079-406d-a8d6-ad1b88931846",
   "metadata": {
    "tags": []
   },
   "outputs": [
    {
     "name": "stdout",
     "output_type": "stream",
     "text": [
      "{'T03', 'E06', 'P01', 'E07', 'T12', 'C03', 'T01', 'E08', 'C05', 'C08', 'C02', 'P07', 'T07', 'E13', 'P12', 'C10', 'E03', 'E02', 'E10', 'E09', 'C12', 'T08', 'T09', 'P10', 'C07', 'E05', 'P09', 'T05', 'E04', 'P02', 'P04', 'T11', 'E01', 'T04', 'P13', 'P06', 'T10', 'P11', 'C09', 'T13', 'C11', 'C06', 'C04', 'C13', 'P03', 'P05', 'P08', 'T02', 'E12', 'T06', 'E11', 'C01'}\n"
     ]
    }
   ],
   "source": [
    "baraja = crear_baraja() \n",
    "print(baraja)"
   ]
  },
  {
   "cell_type": "code",
   "execution_count": 140,
   "id": "9828bde2-e138-4e97-81b4-64fb537a5ac8",
   "metadata": {
    "tags": []
   },
   "outputs": [],
   "source": [
    "import random"
   ]
  },
  {
   "cell_type": "code",
   "execution_count": 143,
   "id": "2e39e034-4cf3-4f75-911b-1ed5e8f48787",
   "metadata": {
    "tags": []
   },
   "outputs": [],
   "source": [
    "def crear_conjuntos(baraja):\n",
    "    n = random.randint(1, len(baraja))\n",
    "    conjunto1 = set(random.sample(baraja, n))\n",
    "    conjunto2 = baraja - conjunto1\n",
    "    return conjunto1, conjunto2"
   ]
  },
  {
   "cell_type": "code",
   "execution_count": 145,
   "id": "4d50b3f4-dc63-4ca4-a081-d54a4fbb0e48",
   "metadata": {
    "tags": []
   },
   "outputs": [
    {
     "ename": "TypeError",
     "evalue": "Population must be a sequence.  For dicts or sets, use sorted(d).",
     "output_type": "error",
     "traceback": [
      "\u001b[0;31m---------------------------------------------------------------------------\u001b[0m",
      "\u001b[0;31mTypeError\u001b[0m                                 Traceback (most recent call last)",
      "Cell \u001b[0;32mIn[145], line 1\u001b[0m\n\u001b[0;32m----> 1\u001b[0m conjunto1, conjunto2 \u001b[38;5;241m=\u001b[39m crear_conjuntos(baraja)\n\u001b[1;32m      2\u001b[0m \u001b[38;5;28mprint\u001b[39m(\u001b[38;5;124m\"\u001b[39m\u001b[38;5;124mConjunto 1:\u001b[39m\u001b[38;5;124m\"\u001b[39m, conjunto1)\n\u001b[1;32m      3\u001b[0m \u001b[38;5;28mprint\u001b[39m(\u001b[38;5;124m\"\u001b[39m\u001b[38;5;124mConjunto 2:\u001b[39m\u001b[38;5;124m\"\u001b[39m, conjunto2)\n",
      "Cell \u001b[0;32mIn[143], line 3\u001b[0m, in \u001b[0;36mcrear_conjuntos\u001b[0;34m(baraja)\u001b[0m\n\u001b[1;32m      1\u001b[0m \u001b[38;5;28;01mdef\u001b[39;00m \u001b[38;5;21mcrear_conjuntos\u001b[39m(baraja):\n\u001b[1;32m      2\u001b[0m     n \u001b[38;5;241m=\u001b[39m random\u001b[38;5;241m.\u001b[39mrandint(\u001b[38;5;241m1\u001b[39m, \u001b[38;5;28mlen\u001b[39m(baraja))\n\u001b[0;32m----> 3\u001b[0m     conjunto1 \u001b[38;5;241m=\u001b[39m \u001b[38;5;28mset\u001b[39m(random\u001b[38;5;241m.\u001b[39msample(baraja, n))\n\u001b[1;32m      4\u001b[0m     conjunto2 \u001b[38;5;241m=\u001b[39m baraja \u001b[38;5;241m-\u001b[39m conjunto1\n\u001b[1;32m      5\u001b[0m     \u001b[38;5;28;01mreturn\u001b[39;00m conjunto1, conjunto2\n",
      "File \u001b[0;32m~/anaconda3/lib/python3.11/random.py:439\u001b[0m, in \u001b[0;36mRandom.sample\u001b[0;34m(self, population, k, counts)\u001b[0m\n\u001b[1;32m    415\u001b[0m \u001b[38;5;66;03m# Sampling without replacement entails tracking either potential\u001b[39;00m\n\u001b[1;32m    416\u001b[0m \u001b[38;5;66;03m# selections (the pool) in a list or previous selections in a set.\u001b[39;00m\n\u001b[1;32m    417\u001b[0m \n\u001b[0;32m   (...)\u001b[0m\n\u001b[1;32m    435\u001b[0m \u001b[38;5;66;03m# too many calls to _randbelow(), making them slower and\u001b[39;00m\n\u001b[1;32m    436\u001b[0m \u001b[38;5;66;03m# causing them to eat more entropy than necessary.\u001b[39;00m\n\u001b[1;32m    438\u001b[0m \u001b[38;5;28;01mif\u001b[39;00m \u001b[38;5;129;01mnot\u001b[39;00m \u001b[38;5;28misinstance\u001b[39m(population, _Sequence):\n\u001b[0;32m--> 439\u001b[0m     \u001b[38;5;28;01mraise\u001b[39;00m \u001b[38;5;167;01mTypeError\u001b[39;00m(\u001b[38;5;124m\"\u001b[39m\u001b[38;5;124mPopulation must be a sequence.  \u001b[39m\u001b[38;5;124m\"\u001b[39m\n\u001b[1;32m    440\u001b[0m                     \u001b[38;5;124m\"\u001b[39m\u001b[38;5;124mFor dicts or sets, use sorted(d).\u001b[39m\u001b[38;5;124m\"\u001b[39m)\n\u001b[1;32m    441\u001b[0m n \u001b[38;5;241m=\u001b[39m \u001b[38;5;28mlen\u001b[39m(population)\n\u001b[1;32m    442\u001b[0m \u001b[38;5;28;01mif\u001b[39;00m counts \u001b[38;5;129;01mis\u001b[39;00m \u001b[38;5;129;01mnot\u001b[39;00m \u001b[38;5;28;01mNone\u001b[39;00m:\n",
      "\u001b[0;31mTypeError\u001b[0m: Population must be a sequence.  For dicts or sets, use sorted(d)."
     ]
    }
   ],
   "source": [
    "conjunto1, conjunto2 = crear_conjuntos(baraja)\n",
    "print(\"Conjunto 1:\", conjunto1)\n",
    "print(\"Conjunto 2:\", conjunto2)"
   ]
  },
  {
   "cell_type": "code",
   "execution_count": null,
   "id": "658f9597-e7ea-4ae0-8434-745af63b5f16",
   "metadata": {},
   "outputs": [],
   "source": []
  }
 ],
 "metadata": {
  "kernelspec": {
   "display_name": "Python 3 (ipykernel)",
   "language": "python",
   "name": "python3"
  },
  "language_info": {
   "codemirror_mode": {
    "name": "ipython",
    "version": 3
   },
   "file_extension": ".py",
   "mimetype": "text/x-python",
   "name": "python",
   "nbconvert_exporter": "python",
   "pygments_lexer": "ipython3",
   "version": "3.11.5"
  }
 },
 "nbformat": 4,
 "nbformat_minor": 5
}
